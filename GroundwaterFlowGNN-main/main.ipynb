{
 "cells": [
  {
   "metadata": {},
   "cell_type": "code",
   "outputs": [],
   "execution_count": null,
   "source": [
    "#from command line run: conda activate taccari_ext_env\n",
    "#pip install torch-scatter -f https://data.pyg.org/whl/torch-1.11.0+cu113.html\n",
    "#pip install torch-sparse  -f https://data.pyg.org/whl/torch-1.11.0+cu113.html\n",
    "#pip install torch-cluster -f https://data.pyg.org/whl/torch-1.11.0+cu113.html\n",
    "#pip install torch-spline-conv -f https://data.pyg.org/whl/torch-1.11.0+cu113.html\n",
    "#pip install torch-geometric"
   ],
   "id": "b4f34ee2053b1ee6"
  },
  {
   "metadata": {
    "ExecuteTime": {
     "end_time": "2025-04-26T02:40:37.626032Z",
     "start_time": "2025-04-26T02:40:37.194454Z"
    }
   },
   "cell_type": "code",
   "source": [
    "%load_ext autoreload\n",
    "%autoreload 2"
   ],
   "id": "a1c53d4082747a99",
   "outputs": [
    {
     "name": "stdout",
     "output_type": "stream",
     "text": [
      "The autoreload extension is already loaded. To reload it, use:\n",
      "  %reload_ext autoreload\n"
     ]
    }
   ],
   "execution_count": 24
  },
  {
   "metadata": {
    "ExecuteTime": {
     "end_time": "2025-04-26T01:47:22.396090Z",
     "start_time": "2025-04-26T01:47:22.315555Z"
    }
   },
   "cell_type": "code",
   "source": [
    "import pandas as pd\n",
    "import sklearn\n",
    "from pathlib import Path"
   ],
   "id": "32116c759fb11dd6",
   "outputs": [],
   "execution_count": 13
  },
  {
   "metadata": {
    "ExecuteTime": {
     "end_time": "2025-04-26T02:41:53.658925Z",
     "start_time": "2025-04-26T02:41:53.202224Z"
    }
   },
   "cell_type": "code",
   "source": [
    "#run data_processing - DMG added False as a default for synthetic data since I don't have that.\n",
    "from data_preprocessing import process_data as process_data"
   ],
   "id": "ed281fc810c6ccf9",
   "outputs": [],
   "execution_count": 25
  },
  {
   "metadata": {
    "ExecuteTime": {
     "end_time": "2025-04-26T02:42:03.770386Z",
     "start_time": "2025-04-26T02:42:02.981261Z"
    }
   },
   "cell_type": "code",
   "source": "process_data.main()",
   "id": "3376417fb4db7b3a",
   "outputs": [
    {
     "name": "stdout",
     "output_type": "stream",
     "text": [
      "Processed data file not found. Processing data.\n",
      "Processing new data.\n",
      "Current working directory: C:\\Users\\danielg\\PycharmProjects\\Taccari_et_al\n"
     ]
    },
    {
     "ename": "AssertionError",
     "evalue": "Preprocessed data directory does not exist.",
     "output_type": "error",
     "traceback": [
      "\u001B[31m---------------------------------------------------------------------------\u001B[39m",
      "\u001B[31mAssertionError\u001B[39m                            Traceback (most recent call last)",
      "\u001B[36mCell\u001B[39m\u001B[36m \u001B[39m\u001B[32mIn[26]\u001B[39m\u001B[32m, line 1\u001B[39m\n\u001B[32m----> \u001B[39m\u001B[32m1\u001B[39m \u001B[43mprocess_data\u001B[49m\u001B[43m.\u001B[49m\u001B[43mmain\u001B[49m\u001B[43m(\u001B[49m\u001B[43m)\u001B[49m\n",
      "\u001B[36mFile \u001B[39m\u001B[32m~\\PycharmProjects\\Taccari_et_al\\GroundwaterFlowGNN-main\\data_preprocessing\\process_data.py:367\u001B[39m, in \u001B[36mmain\u001B[39m\u001B[34m(synthetic_data)\u001B[39m\n\u001B[32m    365\u001B[39m \u001B[38;5;28;01melse\u001B[39;00m:\n\u001B[32m    366\u001B[39m     \u001B[38;5;28mprint\u001B[39m(\u001B[33m\"\u001B[39m\u001B[33mProcessing new data.\u001B[39m\u001B[33m\"\u001B[39m)\n\u001B[32m--> \u001B[39m\u001B[32m367\u001B[39m     \u001B[43msetup_environment\u001B[49m\u001B[43m(\u001B[49m\u001B[43m)\u001B[49m\n\u001B[32m    369\u001B[39m     \u001B[38;5;28;01mif\u001B[39;00m config[\u001B[33m'\u001B[39m\u001B[33msynthetic_data\u001B[39m\u001B[33m'\u001B[39m]:\n\u001B[32m    371\u001B[39m         series_names_real = load_column_names(base_data_path, \u001B[33m'\u001B[39m\u001B[33m_real\u001B[39m\u001B[33m'\u001B[39m )\n",
      "\u001B[36mFile \u001B[39m\u001B[32m~\\PycharmProjects\\Taccari_et_al\\GroundwaterFlowGNN-main\\data_preprocessing\\process_data.py:44\u001B[39m, in \u001B[36msetup_environment\u001B[39m\u001B[34m()\u001B[39m\n\u001B[32m     41\u001B[39m \u001B[38;5;66;03m# path_images = Path('imgs/')\u001B[39;00m\n\u001B[32m     42\u001B[39m \u001B[38;5;66;03m# path_images.mkdir(parents=True, exist_ok=True)\u001B[39;00m\n\u001B[32m     43\u001B[39m preprocessed = Path(\u001B[33m\"\u001B[39m\u001B[33mscripts/data\u001B[39m\u001B[33m\"\u001B[39m)\n\u001B[32m---> \u001B[39m\u001B[32m44\u001B[39m \u001B[38;5;28;01massert\u001B[39;00m preprocessed.is_dir(), \u001B[33m\"\u001B[39m\u001B[33mPreprocessed data directory does not exist.\u001B[39m\u001B[33m\"\u001B[39m\n",
      "\u001B[31mAssertionError\u001B[39m: Preprocessed data directory does not exist."
     ]
    }
   ],
   "execution_count": 26
  },
  {
   "metadata": {
    "ExecuteTime": {
     "end_time": "2025-04-26T02:43:53.757185Z",
     "start_time": "2025-04-26T02:43:53.037011Z"
    }
   },
   "cell_type": "code",
   "source": [
    "import sys, pathlib\n",
    "print(\"Running process_data from:\", pathlib.Path(__file__).resolve())\n",
    "print(\"Python executable:\", sys.executable)"
   ],
   "id": "d8c2cf458d70add5",
   "outputs": [
    {
     "ename": "NameError",
     "evalue": "name '__file__' is not defined",
     "output_type": "error",
     "traceback": [
      "\u001B[31m---------------------------------------------------------------------------\u001B[39m",
      "\u001B[31mNameError\u001B[39m                                 Traceback (most recent call last)",
      "\u001B[36mCell\u001B[39m\u001B[36m \u001B[39m\u001B[32mIn[27]\u001B[39m\u001B[32m, line 2\u001B[39m\n\u001B[32m      1\u001B[39m \u001B[38;5;28;01mimport\u001B[39;00m\u001B[38;5;250m \u001B[39m\u001B[34;01msys\u001B[39;00m,\u001B[38;5;250m \u001B[39m\u001B[34;01mpathlib\u001B[39;00m\n\u001B[32m----> \u001B[39m\u001B[32m2\u001B[39m \u001B[38;5;28mprint\u001B[39m(\u001B[33m\"\u001B[39m\u001B[33mRunning process_data from:\u001B[39m\u001B[33m\"\u001B[39m, pathlib.Path(\u001B[34;43m__file__\u001B[39;49m).resolve())\n\u001B[32m      3\u001B[39m \u001B[38;5;28mprint\u001B[39m(\u001B[33m\"\u001B[39m\u001B[33mPython executable:\u001B[39m\u001B[33m\"\u001B[39m, sys.executable)\n",
      "\u001B[31mNameError\u001B[39m: name '__file__' is not defined"
     ]
    }
   ],
   "execution_count": 27
  },
  {
   "metadata": {
    "ExecuteTime": {
     "end_time": "2025-04-26T01:03:56.697925200Z",
     "start_time": "2025-04-26T01:03:02.576720Z"
    }
   },
   "cell_type": "code",
   "source": [
    "from pathlib import Path\n",
    "print(Path.cwd())"
   ],
   "id": "fb57d4e3752667d6",
   "outputs": [
    {
     "name": "stdout",
     "output_type": "stream",
     "text": [
      "C:\\Users\\danielg\\PycharmProjects\\Taccari_et_al\n"
     ]
    }
   ],
   "execution_count": 10
  }
 ],
 "metadata": {
  "kernelspec": {
   "display_name": "Python 3",
   "language": "python",
   "name": "python3"
  },
  "language_info": {
   "codemirror_mode": {
    "name": "ipython",
    "version": 2
   },
   "file_extension": ".py",
   "mimetype": "text/x-python",
   "name": "python",
   "nbconvert_exporter": "python",
   "pygments_lexer": "ipython2",
   "version": "2.7.6"
  }
 },
 "nbformat": 4,
 "nbformat_minor": 5
}
