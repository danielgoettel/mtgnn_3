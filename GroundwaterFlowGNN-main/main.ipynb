{
 "cells": [
  {
   "metadata": {},
   "cell_type": "code",
   "source": [
    "#from command line run: conda activate taccari_ext_env\n",
    "#pip install torch-scatter -f https://data.pyg.org/whl/torch-1.11.0+cu113.html\n",
    "#pip install torch-sparse  -f https://data.pyg.org/whl/torch-1.11.0+cu113.html\n",
    "#pip install torch-cluster -f https://data.pyg.org/whl/torch-1.11.0+cu113.html\n",
    "#pip install torch-spline-conv -f https://data.pyg.org/whl/torch-1.11.0+cu113.html\n",
    "#pip install torch-geometric"
   ],
   "id": "b4f34ee2053b1ee6",
   "outputs": [],
   "execution_count": null
  },
  {
   "metadata": {},
   "cell_type": "code",
   "source": [
    "%load_ext autoreload\n",
    "%autoreload 2"
   ],
   "id": "a1c53d4082747a99",
   "outputs": [],
   "execution_count": null
  },
  {
   "metadata": {},
   "cell_type": "code",
   "source": [
    "import pandas as pd\n",
    "import sklearn\n",
    "from pathlib import Path"
   ],
   "id": "32116c759fb11dd6",
   "outputs": [],
   "execution_count": null
  },
  {
   "metadata": {},
   "cell_type": "code",
   "source": [
    "#run data_processing - DMG added False as a default for synthetic data since I don't have that.\n",
    "from data_preprocessing import process_data as process_data"
   ],
   "id": "ed281fc810c6ccf9",
   "outputs": [],
   "execution_count": null
  },
  {
   "metadata": {},
   "cell_type": "code",
   "source": "train_data, val_data, test_data, train_mask, val_mask, test_mask, df_piezo_columns, pump_columns, scaler = process_data.main()",
   "id": "3376417fb4db7b3a",
   "outputs": [],
   "execution_count": null
  },
  {
   "metadata": {},
   "cell_type": "code",
   "source": "from data_preprocessing import gnn_data_prep as gnp",
   "id": "15935ecf8c547ff6",
   "outputs": [],
   "execution_count": null
  },
  {
   "metadata": {
    "ExecuteTime": {
     "end_time": "2025-04-27T14:47:02.865174Z",
     "start_time": "2025-04-27T14:47:02.401039Z"
    }
   },
   "cell_type": "code",
   "source": [
    "adj, feats = gnp.main(\n",
    "    df_piezo_columns,\n",
    "    pump_columns,\n",
    "    distance_csv=\"C:\\\\Users\\\\danielg\\\\PycharmProjects\\\\Taccari_et_al\\\\GroundwaterFlowGNN-main\\\\data\\\\input\\\\wells\\\\wellfield_to_obswell_distances.csv\",\n",
    "    piezo_metadata_csv=\"C:\\\\Users\\\\danielg\\\\PycharmProjects\\\\Taccari_et_al\\\\GroundwaterFlowGNN-main\\\\data\\\\preprocessed\\\\well_metadata.csv\",\n",
    "    percentage=100,\n",
    "    n_piezo_connected=3\n",
    ")"
   ],
   "id": "1c07a8a5fde12448",
   "outputs": [],
   "execution_count": 42
  },
  {
   "metadata": {
    "ExecuteTime": {
     "end_time": "2025-04-27T14:47:05.663063Z",
     "start_time": "2025-04-27T14:47:05.442618Z"
    }
   },
   "cell_type": "code",
   "source": [
    "import torch\n",
    "import torch.optim as optim\n",
    "import torch.nn as nn\n",
    "\n",
    "from models.train_model import (\n",
    "    create_mtgnn_model,\n",
    "    train,\n",
    "    define_base_configuration\n",
    ")\n",
    "\n",
    "from utils.metrics import (\n",
    "    calculate_rmse_per_piezometer,\n",
    ")\n",
    "\n",
    "from utils.training_utils import (\n",
    "    make_predictions\n",
    ")\n",
    "\n",
    "from data_preprocessing.dataset import AutoregressiveTimeSeriesDataset\n",
    "\n",
    "# 1) Setup\n",
    "device = torch.device(\"cuda\" if torch.cuda.is_available() else \"cpu\")\n",
    "config = define_base_configuration()\n",
    "\n",
    "num_nodes = int(feats.shape[0])      # N, a Python int\n",
    "num_piezo = int(len(df_piezo_columns))\n",
    "num_pump  = num_nodes - num_piezo    # also an int\n",
    "num_feats  = int(feats.shape[1])\n",
    "W          = config['W']\n",
    "F_w        = 3  # or whatever future window"
   ],
   "id": "7a3bb535845b6a51",
   "outputs": [],
   "execution_count": 43
  },
  {
   "metadata": {
    "ExecuteTime": {
     "end_time": "2025-04-27T14:47:11.013905Z",
     "start_time": "2025-04-27T14:47:10.660569Z"
    }
   },
   "cell_type": "code",
   "source": [
    "\n",
    "# 2) Build model, optimizer, loss\n",
    "model = create_mtgnn_model(\n",
    "    num_features=num_feats,\n",
    "    num_nodes=num_nodes,\n",
    "    seq_length=W,\n",
    "    model_type='MTGNN',\n",
    "    **config\n",
    ").to(device)\n",
    "\n",
    "optimizer     = optim.Adam(model.parameters(), lr=0.001)\n",
    "loss_function = nn.MSELoss()"
   ],
   "id": "891da8f81f2076b1",
   "outputs": [],
   "execution_count": 44
  },
  {
   "metadata": {
    "jupyter": {
     "is_executing": true
    },
    "ExecuteTime": {
     "start_time": "2025-04-27T14:47:14.373658Z"
    }
   },
   "cell_type": "code",
   "source": [
    "\n",
    "# 3) Train\n",
    "train(\n",
    "    model, optimizer, loss_function, device,\n",
    "    num_epochs=200,\n",
    "    train_data=train_data,\n",
    "    val_data=val_data,\n",
    "    train_mask=train_mask,\n",
    "    val_mask=val_mask,\n",
    "    df_piezo_columns=df_piezo_columns,\n",
    "    num_piezo=num_piezo,\n",
    "    static_features=feats,\n",
    "    A_tilde=adj,\n",
    "    F_w=F_w,\n",
    "    W=W,\n",
    "    config=config,\n",
    "    model_type='MTGNN'\n",
    ")"
   ],
   "id": "d04c40fd80a89f22",
   "outputs": [],
   "execution_count": null
  },
  {
   "metadata": {},
   "cell_type": "code",
   "outputs": [],
   "execution_count": null,
   "source": [
    "\n",
    "# 4) Evaluate on one test sample\n",
    "_, _, _, mask_seq = AutoregressiveTimeSeriesDataset(\n",
    "    test_data, W, F_w, test_mask, num_piezo\n",
    " )[1]\n",
    "\n",
    "test_input, test_pred, test_target = make_predictions(\n",
    "    model, (None, None, None, mask_seq), device, F_w, W,\n",
    "    A_tilde, static_features, num_piezo, modeltype='MTGNN'\n",
    ")"
   ],
   "id": "d4542c38c2fc4120"
  },
  {
   "metadata": {
    "ExecuteTime": {
     "end_time": "2025-04-27T14:36:09.838441Z",
     "start_time": "2025-04-27T14:36:09.629303Z"
    }
   },
   "cell_type": "code",
   "outputs": [
    {
     "ename": "ValueError",
     "evalue": "only one element tensors can be converted to Python scalars",
     "output_type": "error",
     "traceback": [
      "\u001B[31m---------------------------------------------------------------------------\u001B[39m",
      "\u001B[31mValueError\u001B[39m                                Traceback (most recent call last)",
      "\u001B[36mCell\u001B[39m\u001B[36m \u001B[39m\u001B[32mIn[33]\u001B[39m\u001B[32m, line 26\u001B[39m\n\u001B[32m     23\u001B[39m config = define_base_configuration()\n\u001B[32m     25\u001B[39m num_piezo  = \u001B[38;5;28mint\u001B[39m(\u001B[38;5;28mlen\u001B[39m(df_piezo_columns))\n\u001B[32m---> \u001B[39m\u001B[32m26\u001B[39m num_pump   = \u001B[38;5;28;43mint\u001B[39;49m\u001B[43m(\u001B[49m\u001B[43madj\u001B[49m\u001B[43m[\u001B[49m\u001B[32;43m0\u001B[39;49m\u001B[43m]\u001B[49m\u001B[43m \u001B[49m\u001B[43m-\u001B[49m\u001B[43m \u001B[49m\u001B[43mnum_piezo\u001B[49m\u001B[43m)\u001B[49m\n\u001B[32m     27\u001B[39m num_nodes  = \u001B[38;5;28mint\u001B[39m(num_piezo + num_pump)\n\u001B[32m     28\u001B[39m num_feats  = \u001B[38;5;28mint\u001B[39m(feats.shape[\u001B[32m1\u001B[39m])\n",
      "\u001B[31mValueError\u001B[39m: only one element tensors can be converted to Python scalars"
     ]
    }
   ],
   "execution_count": 33,
   "source": [
    "\n",
    "# 5) Inverse-scale & compute RMSE\n",
    "test_pred_ = inverse_transform_with_shape_adjustment(test_pred.numpy(), scaler, num_piezo)\n",
    "test_targ_ = inverse_transform_with_shape_adjustment(test_target.numpy(), scaler, num_piezo)\n",
    "\n",
    "rmse_per_pz = calculate_rmse_per_piezometer(test_pred_, test_targ_, num_piezo)\n",
    "mean, std = rmse_per_pz.mean(), rmse_per_pz.std()\n",
    "print(f\"Test RMSE = {mean:.3f} ± {std:.3f}\")\n"
   ],
   "id": "74385791038b5e1b"
  },
  {
   "metadata": {},
   "cell_type": "code",
   "source": "",
   "id": "4e45957594e47eec",
   "outputs": [],
   "execution_count": null
  }
 ],
 "metadata": {
  "kernelspec": {
   "display_name": "Python 3",
   "language": "python",
   "name": "python3"
  },
  "language_info": {
   "codemirror_mode": {
    "name": "ipython",
    "version": 2
   },
   "file_extension": ".py",
   "mimetype": "text/x-python",
   "name": "python",
   "nbconvert_exporter": "python",
   "pygments_lexer": "ipython2",
   "version": "2.7.6"
  }
 },
 "nbformat": 4,
 "nbformat_minor": 5
}
