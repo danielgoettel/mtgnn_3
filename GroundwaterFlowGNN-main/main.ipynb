{
 "cells": [
  {
   "metadata": {},
   "cell_type": "code",
   "source": [
    "#from command line run: conda activate taccari_ext_env\n",
    "#pip install torch-scatter -f https://data.pyg.org/whl/torch-1.11.0+cu113.html\n",
    "#pip install torch-sparse  -f https://data.pyg.org/whl/torch-1.11.0+cu113.html\n",
    "#pip install torch-cluster -f https://data.pyg.org/whl/torch-1.11.0+cu113.html\n",
    "#pip install torch-spline-conv -f https://data.pyg.org/whl/torch-1.11.0+cu113.html\n",
    "#pip install torch-geometric"
   ],
   "id": "b4f34ee2053b1ee6",
   "outputs": [],
   "execution_count": null
  },
  {
   "metadata": {},
   "cell_type": "code",
   "source": [
    "%load_ext autoreload\n",
    "%autoreload 2"
   ],
   "id": "a1c53d4082747a99",
   "outputs": [],
   "execution_count": null
  },
  {
   "metadata": {},
   "cell_type": "code",
   "source": [
    "import pandas as pd\n",
    "import sklearn\n",
    "from pathlib import Path"
   ],
   "id": "32116c759fb11dd6",
   "outputs": [],
   "execution_count": null
  },
  {
   "metadata": {},
   "cell_type": "code",
   "source": [
    "#run data_processing - DMG added False as a default for synthetic data since I don't have that.\n",
    "from data_preprocessing import process_data as process_data"
   ],
   "id": "ed281fc810c6ccf9",
   "outputs": [],
   "execution_count": null
  },
  {
   "metadata": {},
   "cell_type": "code",
   "source": "train_data, val_data, test_data, train_mask, val_mask, test_mask, df_piezo_columns, pump_columns, scaler = process_data.main()",
   "id": "3376417fb4db7b3a",
   "outputs": [],
   "execution_count": null
  },
  {
   "metadata": {},
   "cell_type": "code",
   "source": "from data_preprocessing import gnn_data_prep as gnp",
   "id": "15935ecf8c547ff6",
   "outputs": [],
   "execution_count": null
  },
  {
   "metadata": {
    "ExecuteTime": {
     "end_time": "2025-04-27T14:47:02.865174Z",
     "start_time": "2025-04-27T14:47:02.401039Z"
    }
   },
   "cell_type": "code",
   "source": [
    "adj, feats = gnp.main(\n",
    "    df_piezo_columns,\n",
    "    pump_columns,\n",
    "    distance_csv=\"C:\\\\Users\\\\danielg\\\\PycharmProjects\\\\Taccari_et_al\\\\GroundwaterFlowGNN-main\\\\data\\\\input\\\\wells\\\\wellfield_to_obswell_distances.csv\",\n",
    "    piezo_metadata_csv=\"C:\\\\Users\\\\danielg\\\\PycharmProjects\\\\Taccari_et_al\\\\GroundwaterFlowGNN-main\\\\data\\\\preprocessed\\\\well_metadata.csv\",\n",
    "    percentage=100,\n",
    "    n_piezo_connected=3\n",
    ")"
   ],
   "id": "1c07a8a5fde12448",
   "outputs": [],
   "execution_count": 42
  },
  {
   "metadata": {
    "ExecuteTime": {
     "end_time": "2025-04-27T14:47:05.663063Z",
     "start_time": "2025-04-27T14:47:05.442618Z"
    }
   },
   "cell_type": "code",
   "source": [
    "import torch\n",
    "import torch.optim as optim\n",
    "import torch.nn as nn\n",
    "\n",
    "from models.train_model import (\n",
    "    create_mtgnn_model,\n",
    "    train,\n",
    "    define_base_configuration\n",
    ")\n",
    "\n",
    "from utils.metrics import (\n",
    "    calculate_rmse_per_piezometer,\n",
    ")\n",
    "\n",
    "from utils.training_utils import (\n",
    "    make_predictions\n",
    ")\n",
    "\n",
    "from data_preprocessing.dataset import AutoregressiveTimeSeriesDataset\n",
    "\n",
    "# 1) Setup\n",
    "device = torch.device(\"cuda\" if torch.cuda.is_available() else \"cpu\")\n",
    "config = define_base_configuration()\n",
    "\n",
    "num_nodes = int(feats.shape[0])      # N, a Python int\n",
    "num_piezo = int(len(df_piezo_columns))\n",
    "num_pump  = num_nodes - num_piezo    # also an int\n",
    "num_feats  = int(feats.shape[1])\n",
    "W          = config['W']\n",
    "F_w        = 3  # or whatever future window"
   ],
   "id": "7a3bb535845b6a51",
   "outputs": [],
   "execution_count": 43
  },
  {
   "metadata": {
    "ExecuteTime": {
     "end_time": "2025-04-27T14:47:11.013905Z",
     "start_time": "2025-04-27T14:47:10.660569Z"
    }
   },
   "cell_type": "code",
   "source": [
    "\n",
    "# 2) Build model, optimizer, loss\n",
    "model = create_mtgnn_model(\n",
    "    num_features=num_feats,\n",
    "    num_nodes=num_nodes,\n",
    "    seq_length=W,\n",
    "    model_type='MTGNN',\n",
    "    **config\n",
    ").to(device)\n",
    "\n",
    "optimizer     = optim.Adam(model.parameters(), lr=0.001)\n",
    "loss_function = nn.MSELoss()"
   ],
   "id": "891da8f81f2076b1",
   "outputs": [],
   "execution_count": 44
  },
  {
   "metadata": {
    "ExecuteTime": {
     "end_time": "2025-04-27T19:32:47.562309Z",
     "start_time": "2025-04-27T14:47:14.373658Z"
    }
   },
   "cell_type": "code",
   "source": [
    "\n",
    "# 3) Train\n",
    "train(\n",
    "    model, optimizer, loss_function, device,\n",
    "    num_epochs=75,\n",
    "    train_data=train_data,\n",
    "    val_data=val_data,\n",
    "    train_mask=train_mask,\n",
    "    val_mask=val_mask,\n",
    "    df_piezo_columns=df_piezo_columns,\n",
    "    num_piezo=num_piezo,\n",
    "    static_features=feats,\n",
    "    A_tilde=adj,\n",
    "    F_w=F_w,\n",
    "    W=W,\n",
    "    config=config,\n",
    "    model_type='MTGNN'\n",
    ")"
   ],
   "id": "d04c40fd80a89f22",
   "outputs": [
    {
     "name": "stdout",
     "output_type": "stream",
     "text": [
      "Epoch 10, Train Loss: 2.97e-02, Eval Loss: 2.01e-02\n",
      "Epoch 20, Train Loss: 1.83e-02, Eval Loss: 1.39e-02\n",
      "Epoch 30, Train Loss: 1.62e-02, Eval Loss: 1.30e-02\n",
      "Epoch 40, Train Loss: 1.03e-02, Eval Loss: 9.90e-03\n",
      "Epoch 50, Train Loss: 7.83e-03, Eval Loss: 6.39e-03\n",
      "Epoch 60, Train Loss: 7.89e-03, Eval Loss: 6.23e-03\n",
      "Epoch 70, Train Loss: 8.32e-03, Eval Loss: 6.23e-03\n",
      "Epoch 80, Train Loss: 8.16e-03, Eval Loss: 6.31e-03\n",
      "Epoch 90, Train Loss: 8.62e-03, Eval Loss: 6.08e-03\n",
      "Epoch 100, Train Loss: 7.37e-03, Eval Loss: 5.83e-03\n",
      "Epoch 110, Train Loss: 7.31e-03, Eval Loss: 6.14e-03\n"
     ]
    },
    {
     "ename": "KeyboardInterrupt",
     "evalue": "",
     "output_type": "error",
     "traceback": [
      "\u001B[31m---------------------------------------------------------------------------\u001B[39m",
      "\u001B[31mKeyboardInterrupt\u001B[39m                         Traceback (most recent call last)",
      "\u001B[36mCell\u001B[39m\u001B[36m \u001B[39m\u001B[32mIn[45]\u001B[39m\u001B[32m, line 2\u001B[39m\n\u001B[32m      1\u001B[39m \u001B[38;5;66;03m# 3) Train\u001B[39;00m\n\u001B[32m----> \u001B[39m\u001B[32m2\u001B[39m \u001B[43mtrain\u001B[49m\u001B[43m(\u001B[49m\n\u001B[32m      3\u001B[39m \u001B[43m    \u001B[49m\u001B[43mmodel\u001B[49m\u001B[43m,\u001B[49m\u001B[43m \u001B[49m\u001B[43moptimizer\u001B[49m\u001B[43m,\u001B[49m\u001B[43m \u001B[49m\u001B[43mloss_function\u001B[49m\u001B[43m,\u001B[49m\u001B[43m \u001B[49m\u001B[43mdevice\u001B[49m\u001B[43m,\u001B[49m\n\u001B[32m      4\u001B[39m \u001B[43m    \u001B[49m\u001B[43mnum_epochs\u001B[49m\u001B[43m=\u001B[49m\u001B[32;43m200\u001B[39;49m\u001B[43m,\u001B[49m\n\u001B[32m      5\u001B[39m \u001B[43m    \u001B[49m\u001B[43mtrain_data\u001B[49m\u001B[43m=\u001B[49m\u001B[43mtrain_data\u001B[49m\u001B[43m,\u001B[49m\n\u001B[32m      6\u001B[39m \u001B[43m    \u001B[49m\u001B[43mval_data\u001B[49m\u001B[43m=\u001B[49m\u001B[43mval_data\u001B[49m\u001B[43m,\u001B[49m\n\u001B[32m      7\u001B[39m \u001B[43m    \u001B[49m\u001B[43mtrain_mask\u001B[49m\u001B[43m=\u001B[49m\u001B[43mtrain_mask\u001B[49m\u001B[43m,\u001B[49m\n\u001B[32m      8\u001B[39m \u001B[43m    \u001B[49m\u001B[43mval_mask\u001B[49m\u001B[43m=\u001B[49m\u001B[43mval_mask\u001B[49m\u001B[43m,\u001B[49m\n\u001B[32m      9\u001B[39m \u001B[43m    \u001B[49m\u001B[43mdf_piezo_columns\u001B[49m\u001B[43m=\u001B[49m\u001B[43mdf_piezo_columns\u001B[49m\u001B[43m,\u001B[49m\n\u001B[32m     10\u001B[39m \u001B[43m    \u001B[49m\u001B[43mnum_piezo\u001B[49m\u001B[43m=\u001B[49m\u001B[43mnum_piezo\u001B[49m\u001B[43m,\u001B[49m\n\u001B[32m     11\u001B[39m \u001B[43m    \u001B[49m\u001B[43mstatic_features\u001B[49m\u001B[43m=\u001B[49m\u001B[43mfeats\u001B[49m\u001B[43m,\u001B[49m\n\u001B[32m     12\u001B[39m \u001B[43m    \u001B[49m\u001B[43mA_tilde\u001B[49m\u001B[43m=\u001B[49m\u001B[43madj\u001B[49m\u001B[43m,\u001B[49m\n\u001B[32m     13\u001B[39m \u001B[43m    \u001B[49m\u001B[43mF_w\u001B[49m\u001B[43m=\u001B[49m\u001B[43mF_w\u001B[49m\u001B[43m,\u001B[49m\n\u001B[32m     14\u001B[39m \u001B[43m    \u001B[49m\u001B[43mW\u001B[49m\u001B[43m=\u001B[49m\u001B[43mW\u001B[49m\u001B[43m,\u001B[49m\n\u001B[32m     15\u001B[39m \u001B[43m    \u001B[49m\u001B[43mconfig\u001B[49m\u001B[43m=\u001B[49m\u001B[43mconfig\u001B[49m\u001B[43m,\u001B[49m\n\u001B[32m     16\u001B[39m \u001B[43m    \u001B[49m\u001B[43mmodel_type\u001B[49m\u001B[43m=\u001B[49m\u001B[33;43m'\u001B[39;49m\u001B[33;43mMTGNN\u001B[39;49m\u001B[33;43m'\u001B[39;49m\n\u001B[32m     17\u001B[39m \u001B[43m)\u001B[49m\n",
      "\u001B[36mFile \u001B[39m\u001B[32m~\\PycharmProjects\\Taccari_et_al\\GroundwaterFlowGNN-main\\models\\train_model.py:155\u001B[39m, in \u001B[36mtrain\u001B[39m\u001B[34m(model, optimizer, loss_function, device, num_epochs, train_data, val_data, train_mask, val_mask, df_piezo_columns, num_piezo, static_features, A_tilde, F_w, W, config, model_type)\u001B[39m\n\u001B[32m    152\u001B[39m combined_input = prepare_combined_input(current_input, current_forces)\n\u001B[32m    154\u001B[39m \u001B[38;5;28;01mif\u001B[39;00m model_type == \u001B[33m'\u001B[39m\u001B[33mMTGNN\u001B[39m\u001B[33m'\u001B[39m \u001B[38;5;129;01mor\u001B[39;00m \u001B[33m'\u001B[39m\u001B[33mMTGNN_LSTM\u001B[39m\u001B[33m'\u001B[39m:\n\u001B[32m--> \u001B[39m\u001B[32m155\u001B[39m     output = \u001B[43mmodel\u001B[49m\u001B[43m(\u001B[49m\u001B[43mcombined_input\u001B[49m\u001B[43m,\u001B[49m\u001B[43m \u001B[49m\u001B[43mA_tilde\u001B[49m\u001B[43m.\u001B[49m\u001B[43mto\u001B[49m\u001B[43m(\u001B[49m\u001B[43mdevice\u001B[49m\u001B[43m)\u001B[49m\u001B[43m,\u001B[49m\u001B[43m \u001B[49m\u001B[43mFE\u001B[49m\u001B[43m=\u001B[49m\u001B[43mstatic_features\u001B[49m\u001B[43m.\u001B[49m\u001B[43mto\u001B[49m\u001B[43m(\u001B[49m\u001B[43mdevice\u001B[49m\u001B[43m)\u001B[49m\u001B[43m)\u001B[49m \u001B[38;5;28;01mif\u001B[39;00m \u001B[38;5;129;01mnot\u001B[39;00m config[\u001B[33m'\u001B[39m\u001B[33mbuild_adj\u001B[39m\u001B[33m'\u001B[39m] \u001B[38;5;28;01melse\u001B[39;00m model(combined_input, FE=static_features.to(device))\n\u001B[32m    156\u001B[39m \u001B[38;5;28;01melif\u001B[39;00m model_type == \u001B[33m'\u001B[39m\u001B[33mLSTM\u001B[39m\u001B[33m'\u001B[39m \u001B[38;5;129;01mor\u001B[39;00m \u001B[33m'\u001B[39m\u001B[33mtCNN\u001B[39m\u001B[33m'\u001B[39m:\n\u001B[32m    157\u001B[39m     output = model(combined_input, current_forces)\n",
      "\u001B[36mFile \u001B[39m\u001B[32m~\\PycharmProjects\\Taccari_et_al\\.venv\\Lib\\site-packages\\torch\\nn\\modules\\module.py:1751\u001B[39m, in \u001B[36mModule._wrapped_call_impl\u001B[39m\u001B[34m(self, *args, **kwargs)\u001B[39m\n\u001B[32m   1749\u001B[39m     \u001B[38;5;28;01mreturn\u001B[39;00m \u001B[38;5;28mself\u001B[39m._compiled_call_impl(*args, **kwargs)  \u001B[38;5;66;03m# type: ignore[misc]\u001B[39;00m\n\u001B[32m   1750\u001B[39m \u001B[38;5;28;01melse\u001B[39;00m:\n\u001B[32m-> \u001B[39m\u001B[32m1751\u001B[39m     \u001B[38;5;28;01mreturn\u001B[39;00m \u001B[38;5;28;43mself\u001B[39;49m\u001B[43m.\u001B[49m\u001B[43m_call_impl\u001B[49m\u001B[43m(\u001B[49m\u001B[43m*\u001B[49m\u001B[43margs\u001B[49m\u001B[43m,\u001B[49m\u001B[43m \u001B[49m\u001B[43m*\u001B[49m\u001B[43m*\u001B[49m\u001B[43mkwargs\u001B[49m\u001B[43m)\u001B[49m\n",
      "\u001B[36mFile \u001B[39m\u001B[32m~\\PycharmProjects\\Taccari_et_al\\.venv\\Lib\\site-packages\\torch\\nn\\modules\\module.py:1762\u001B[39m, in \u001B[36mModule._call_impl\u001B[39m\u001B[34m(self, *args, **kwargs)\u001B[39m\n\u001B[32m   1757\u001B[39m \u001B[38;5;66;03m# If we don't have any hooks, we want to skip the rest of the logic in\u001B[39;00m\n\u001B[32m   1758\u001B[39m \u001B[38;5;66;03m# this function, and just call forward.\u001B[39;00m\n\u001B[32m   1759\u001B[39m \u001B[38;5;28;01mif\u001B[39;00m \u001B[38;5;129;01mnot\u001B[39;00m (\u001B[38;5;28mself\u001B[39m._backward_hooks \u001B[38;5;129;01mor\u001B[39;00m \u001B[38;5;28mself\u001B[39m._backward_pre_hooks \u001B[38;5;129;01mor\u001B[39;00m \u001B[38;5;28mself\u001B[39m._forward_hooks \u001B[38;5;129;01mor\u001B[39;00m \u001B[38;5;28mself\u001B[39m._forward_pre_hooks\n\u001B[32m   1760\u001B[39m         \u001B[38;5;129;01mor\u001B[39;00m _global_backward_pre_hooks \u001B[38;5;129;01mor\u001B[39;00m _global_backward_hooks\n\u001B[32m   1761\u001B[39m         \u001B[38;5;129;01mor\u001B[39;00m _global_forward_hooks \u001B[38;5;129;01mor\u001B[39;00m _global_forward_pre_hooks):\n\u001B[32m-> \u001B[39m\u001B[32m1762\u001B[39m     \u001B[38;5;28;01mreturn\u001B[39;00m \u001B[43mforward_call\u001B[49m\u001B[43m(\u001B[49m\u001B[43m*\u001B[49m\u001B[43margs\u001B[49m\u001B[43m,\u001B[49m\u001B[43m \u001B[49m\u001B[43m*\u001B[49m\u001B[43m*\u001B[49m\u001B[43mkwargs\u001B[49m\u001B[43m)\u001B[49m\n\u001B[32m   1764\u001B[39m result = \u001B[38;5;28;01mNone\u001B[39;00m\n\u001B[32m   1765\u001B[39m called_always_called_hooks = \u001B[38;5;28mset\u001B[39m()\n",
      "\u001B[36mFile \u001B[39m\u001B[32m~\\PycharmProjects\\Taccari_et_al\\GroundwaterFlowGNN-main\\models\\mtgnn.py:675\u001B[39m, in \u001B[36mMTGNN.forward\u001B[39m\u001B[34m(self, X_in, A_tilde, idx, FE)\u001B[39m\n\u001B[32m    673\u001B[39m \u001B[38;5;28;01mif\u001B[39;00m idx \u001B[38;5;129;01mis\u001B[39;00m \u001B[38;5;28;01mNone\u001B[39;00m:\n\u001B[32m    674\u001B[39m     \u001B[38;5;28;01mfor\u001B[39;00m mtgnn \u001B[38;5;129;01min\u001B[39;00m \u001B[38;5;28mself\u001B[39m._mtgnn_layers:\n\u001B[32m--> \u001B[39m\u001B[32m675\u001B[39m         X, X_skip = \u001B[43mmtgnn\u001B[49m\u001B[43m(\u001B[49m\n\u001B[32m    676\u001B[39m \u001B[43m            \u001B[49m\u001B[43mX\u001B[49m\u001B[43m,\u001B[49m\u001B[43m \u001B[49m\u001B[43mX_skip\u001B[49m\u001B[43m,\u001B[49m\u001B[43m \u001B[49m\u001B[43mA_tilde\u001B[49m\u001B[43m,\u001B[49m\u001B[43m \u001B[49m\u001B[38;5;28;43mself\u001B[39;49m\u001B[43m.\u001B[49m\u001B[43m_idx\u001B[49m\u001B[43m.\u001B[49m\u001B[43mto\u001B[49m\u001B[43m(\u001B[49m\u001B[43mX_in\u001B[49m\u001B[43m.\u001B[49m\u001B[43mdevice\u001B[49m\u001B[43m)\u001B[49m\u001B[43m,\u001B[49m\u001B[43m \u001B[49m\u001B[38;5;28;43mself\u001B[39;49m\u001B[43m.\u001B[49m\u001B[43mtraining\u001B[49m\n\u001B[32m    677\u001B[39m \u001B[43m        \u001B[49m\u001B[43m)\u001B[49m\n\u001B[32m    678\u001B[39m \u001B[38;5;28;01melse\u001B[39;00m:\n\u001B[32m    679\u001B[39m     \u001B[38;5;28;01mfor\u001B[39;00m mtgnn \u001B[38;5;129;01min\u001B[39;00m \u001B[38;5;28mself\u001B[39m._mtgnn_layers:\n",
      "\u001B[36mFile \u001B[39m\u001B[32m~\\PycharmProjects\\Taccari_et_al\\.venv\\Lib\\site-packages\\torch\\nn\\modules\\module.py:1751\u001B[39m, in \u001B[36mModule._wrapped_call_impl\u001B[39m\u001B[34m(self, *args, **kwargs)\u001B[39m\n\u001B[32m   1749\u001B[39m     \u001B[38;5;28;01mreturn\u001B[39;00m \u001B[38;5;28mself\u001B[39m._compiled_call_impl(*args, **kwargs)  \u001B[38;5;66;03m# type: ignore[misc]\u001B[39;00m\n\u001B[32m   1750\u001B[39m \u001B[38;5;28;01melse\u001B[39;00m:\n\u001B[32m-> \u001B[39m\u001B[32m1751\u001B[39m     \u001B[38;5;28;01mreturn\u001B[39;00m \u001B[38;5;28;43mself\u001B[39;49m\u001B[43m.\u001B[49m\u001B[43m_call_impl\u001B[49m\u001B[43m(\u001B[49m\u001B[43m*\u001B[49m\u001B[43margs\u001B[49m\u001B[43m,\u001B[49m\u001B[43m \u001B[49m\u001B[43m*\u001B[49m\u001B[43m*\u001B[49m\u001B[43mkwargs\u001B[49m\u001B[43m)\u001B[49m\n",
      "\u001B[36mFile \u001B[39m\u001B[32m~\\PycharmProjects\\Taccari_et_al\\.venv\\Lib\\site-packages\\torch\\nn\\modules\\module.py:1762\u001B[39m, in \u001B[36mModule._call_impl\u001B[39m\u001B[34m(self, *args, **kwargs)\u001B[39m\n\u001B[32m   1757\u001B[39m \u001B[38;5;66;03m# If we don't have any hooks, we want to skip the rest of the logic in\u001B[39;00m\n\u001B[32m   1758\u001B[39m \u001B[38;5;66;03m# this function, and just call forward.\u001B[39;00m\n\u001B[32m   1759\u001B[39m \u001B[38;5;28;01mif\u001B[39;00m \u001B[38;5;129;01mnot\u001B[39;00m (\u001B[38;5;28mself\u001B[39m._backward_hooks \u001B[38;5;129;01mor\u001B[39;00m \u001B[38;5;28mself\u001B[39m._backward_pre_hooks \u001B[38;5;129;01mor\u001B[39;00m \u001B[38;5;28mself\u001B[39m._forward_hooks \u001B[38;5;129;01mor\u001B[39;00m \u001B[38;5;28mself\u001B[39m._forward_pre_hooks\n\u001B[32m   1760\u001B[39m         \u001B[38;5;129;01mor\u001B[39;00m _global_backward_pre_hooks \u001B[38;5;129;01mor\u001B[39;00m _global_backward_hooks\n\u001B[32m   1761\u001B[39m         \u001B[38;5;129;01mor\u001B[39;00m _global_forward_hooks \u001B[38;5;129;01mor\u001B[39;00m _global_forward_pre_hooks):\n\u001B[32m-> \u001B[39m\u001B[32m1762\u001B[39m     \u001B[38;5;28;01mreturn\u001B[39;00m \u001B[43mforward_call\u001B[49m\u001B[43m(\u001B[49m\u001B[43m*\u001B[49m\u001B[43margs\u001B[49m\u001B[43m,\u001B[49m\u001B[43m \u001B[49m\u001B[43m*\u001B[49m\u001B[43m*\u001B[49m\u001B[43mkwargs\u001B[49m\u001B[43m)\u001B[49m\n\u001B[32m   1764\u001B[39m result = \u001B[38;5;28;01mNone\u001B[39;00m\n\u001B[32m   1765\u001B[39m called_always_called_hooks = \u001B[38;5;28mset\u001B[39m()\n",
      "\u001B[36mFile \u001B[39m\u001B[32m~\\PycharmProjects\\Taccari_et_al\\GroundwaterFlowGNN-main\\models\\mtgnn.py:446\u001B[39m, in \u001B[36mMTGNNLayer.forward\u001B[39m\u001B[34m(self, X, X_skip, A_tilde, idx, training)\u001B[39m\n\u001B[32m    444\u001B[39m X_skip = \u001B[38;5;28mself\u001B[39m._skip_conv(X) + X_skip\n\u001B[32m    445\u001B[39m \u001B[38;5;28;01mif\u001B[39;00m \u001B[38;5;28mself\u001B[39m._gcn_true:\n\u001B[32m--> \u001B[39m\u001B[32m446\u001B[39m     X = \u001B[38;5;28mself\u001B[39m._mixprop_conv1(X, A_tilde) + \u001B[38;5;28;43mself\u001B[39;49m\u001B[43m.\u001B[49m\u001B[43m_mixprop_conv2\u001B[49m\u001B[43m(\u001B[49m\n\u001B[32m    447\u001B[39m \u001B[43m        \u001B[49m\u001B[43mX\u001B[49m\u001B[43m,\u001B[49m\u001B[43m \u001B[49m\u001B[43mA_tilde\u001B[49m\u001B[43m.\u001B[49m\u001B[43mtranspose\u001B[49m\u001B[43m(\u001B[49m\u001B[32;43m1\u001B[39;49m\u001B[43m,\u001B[49m\u001B[43m \u001B[49m\u001B[32;43m0\u001B[39;49m\u001B[43m)\u001B[49m\n\u001B[32m    448\u001B[39m \u001B[43m    \u001B[49m\u001B[43m)\u001B[49m\n\u001B[32m    449\u001B[39m \u001B[38;5;28;01melse\u001B[39;00m:\n\u001B[32m    450\u001B[39m     X = \u001B[38;5;28mself\u001B[39m._residual_conv(X)\n",
      "\u001B[36mFile \u001B[39m\u001B[32m~\\PycharmProjects\\Taccari_et_al\\.venv\\Lib\\site-packages\\torch\\nn\\modules\\module.py:1751\u001B[39m, in \u001B[36mModule._wrapped_call_impl\u001B[39m\u001B[34m(self, *args, **kwargs)\u001B[39m\n\u001B[32m   1749\u001B[39m     \u001B[38;5;28;01mreturn\u001B[39;00m \u001B[38;5;28mself\u001B[39m._compiled_call_impl(*args, **kwargs)  \u001B[38;5;66;03m# type: ignore[misc]\u001B[39;00m\n\u001B[32m   1750\u001B[39m \u001B[38;5;28;01melse\u001B[39;00m:\n\u001B[32m-> \u001B[39m\u001B[32m1751\u001B[39m     \u001B[38;5;28;01mreturn\u001B[39;00m \u001B[38;5;28;43mself\u001B[39;49m\u001B[43m.\u001B[49m\u001B[43m_call_impl\u001B[49m\u001B[43m(\u001B[49m\u001B[43m*\u001B[49m\u001B[43margs\u001B[49m\u001B[43m,\u001B[49m\u001B[43m \u001B[49m\u001B[43m*\u001B[49m\u001B[43m*\u001B[49m\u001B[43mkwargs\u001B[49m\u001B[43m)\u001B[49m\n",
      "\u001B[36mFile \u001B[39m\u001B[32m~\\PycharmProjects\\Taccari_et_al\\.venv\\Lib\\site-packages\\torch\\nn\\modules\\module.py:1762\u001B[39m, in \u001B[36mModule._call_impl\u001B[39m\u001B[34m(self, *args, **kwargs)\u001B[39m\n\u001B[32m   1757\u001B[39m \u001B[38;5;66;03m# If we don't have any hooks, we want to skip the rest of the logic in\u001B[39;00m\n\u001B[32m   1758\u001B[39m \u001B[38;5;66;03m# this function, and just call forward.\u001B[39;00m\n\u001B[32m   1759\u001B[39m \u001B[38;5;28;01mif\u001B[39;00m \u001B[38;5;129;01mnot\u001B[39;00m (\u001B[38;5;28mself\u001B[39m._backward_hooks \u001B[38;5;129;01mor\u001B[39;00m \u001B[38;5;28mself\u001B[39m._backward_pre_hooks \u001B[38;5;129;01mor\u001B[39;00m \u001B[38;5;28mself\u001B[39m._forward_hooks \u001B[38;5;129;01mor\u001B[39;00m \u001B[38;5;28mself\u001B[39m._forward_pre_hooks\n\u001B[32m   1760\u001B[39m         \u001B[38;5;129;01mor\u001B[39;00m _global_backward_pre_hooks \u001B[38;5;129;01mor\u001B[39;00m _global_backward_hooks\n\u001B[32m   1761\u001B[39m         \u001B[38;5;129;01mor\u001B[39;00m _global_forward_hooks \u001B[38;5;129;01mor\u001B[39;00m _global_forward_pre_hooks):\n\u001B[32m-> \u001B[39m\u001B[32m1762\u001B[39m     \u001B[38;5;28;01mreturn\u001B[39;00m \u001B[43mforward_call\u001B[49m\u001B[43m(\u001B[49m\u001B[43m*\u001B[49m\u001B[43margs\u001B[49m\u001B[43m,\u001B[49m\u001B[43m \u001B[49m\u001B[43m*\u001B[49m\u001B[43m*\u001B[49m\u001B[43mkwargs\u001B[49m\u001B[43m)\u001B[49m\n\u001B[32m   1764\u001B[39m result = \u001B[38;5;28;01mNone\u001B[39;00m\n\u001B[32m   1765\u001B[39m called_always_called_hooks = \u001B[38;5;28mset\u001B[39m()\n",
      "\u001B[36mFile \u001B[39m\u001B[32m~\\PycharmProjects\\Taccari_et_al\\GroundwaterFlowGNN-main\\models\\mtgnn.py:100\u001B[39m, in \u001B[36mMixProp.forward\u001B[39m\u001B[34m(self, X, A)\u001B[39m\n\u001B[32m     96\u001B[39m \u001B[38;5;28;01mfor\u001B[39;00m _ \u001B[38;5;129;01min\u001B[39;00m \u001B[38;5;28mrange\u001B[39m(\u001B[38;5;28mself\u001B[39m._gdep):\n\u001B[32m     97\u001B[39m     H = \u001B[38;5;28mself\u001B[39m._alpha * X + (\u001B[32m1\u001B[39m - \u001B[38;5;28mself\u001B[39m._alpha) * torch.einsum(\n\u001B[32m     98\u001B[39m         \u001B[33m\"\u001B[39m\u001B[33mncwl,vw->ncvl\u001B[39m\u001B[33m\"\u001B[39m, (H, A)\n\u001B[32m     99\u001B[39m     )\n\u001B[32m--> \u001B[39m\u001B[32m100\u001B[39m     H_0 = \u001B[43mtorch\u001B[49m\u001B[43m.\u001B[49m\u001B[43mcat\u001B[49m\u001B[43m(\u001B[49m\u001B[43m(\u001B[49m\u001B[43mH_0\u001B[49m\u001B[43m,\u001B[49m\u001B[43m \u001B[49m\u001B[43mH\u001B[49m\u001B[43m)\u001B[49m\u001B[43m,\u001B[49m\u001B[43m \u001B[49m\u001B[43mdim\u001B[49m\u001B[43m=\u001B[49m\u001B[32;43m1\u001B[39;49m\u001B[43m)\u001B[49m\n\u001B[32m    101\u001B[39m H_0 = \u001B[38;5;28mself\u001B[39m._mlp(H_0)\n\u001B[32m    102\u001B[39m \u001B[38;5;28;01mreturn\u001B[39;00m H_0\n",
      "\u001B[31mKeyboardInterrupt\u001B[39m: "
     ]
    }
   ],
   "execution_count": 45
  },
  {
   "metadata": {
    "ExecuteTime": {
     "end_time": "2025-04-27T19:33:37.536941Z",
     "start_time": "2025-04-27T19:33:36.888413Z"
    }
   },
   "cell_type": "code",
   "source": [
    "\n",
    "# 4) Evaluate on one test sample\n",
    "_, _, _, mask_seq = AutoregressiveTimeSeriesDataset(\n",
    "    test_data, W, F_w, test_mask, num_piezo\n",
    " )[1]\n",
    "\n",
    "test_input, test_pred, test_target = make_predictions(\n",
    "    model, (None, None, None, mask_seq), device, F_w, W,\n",
    "    adj, feats, num_piezo, modeltype='MTGNN'\n",
    ")"
   ],
   "id": "d4542c38c2fc4120",
   "outputs": [
    {
     "ename": "AttributeError",
     "evalue": "'NoneType' object has no attribute 'to'",
     "output_type": "error",
     "traceback": [
      "\u001B[31m---------------------------------------------------------------------------\u001B[39m",
      "\u001B[31mAttributeError\u001B[39m                            Traceback (most recent call last)",
      "\u001B[36mCell\u001B[39m\u001B[36m \u001B[39m\u001B[32mIn[47]\u001B[39m\u001B[32m, line 6\u001B[39m\n\u001B[32m      1\u001B[39m \u001B[38;5;66;03m# 4) Evaluate on one test sample\u001B[39;00m\n\u001B[32m      2\u001B[39m _, _, _, mask_seq = AutoregressiveTimeSeriesDataset(\n\u001B[32m      3\u001B[39m     test_data, W, F_w, test_mask, num_piezo\n\u001B[32m      4\u001B[39m  )[\u001B[32m1\u001B[39m]\n\u001B[32m----> \u001B[39m\u001B[32m6\u001B[39m test_input, test_pred, test_target = \u001B[43mmake_predictions\u001B[49m\u001B[43m(\u001B[49m\n\u001B[32m      7\u001B[39m \u001B[43m    \u001B[49m\u001B[43mmodel\u001B[49m\u001B[43m,\u001B[49m\u001B[43m \u001B[49m\u001B[43m(\u001B[49m\u001B[38;5;28;43;01mNone\u001B[39;49;00m\u001B[43m,\u001B[49m\u001B[43m \u001B[49m\u001B[38;5;28;43;01mNone\u001B[39;49;00m\u001B[43m,\u001B[49m\u001B[43m \u001B[49m\u001B[38;5;28;43;01mNone\u001B[39;49;00m\u001B[43m,\u001B[49m\u001B[43m \u001B[49m\u001B[43mmask_seq\u001B[49m\u001B[43m)\u001B[49m\u001B[43m,\u001B[49m\u001B[43m \u001B[49m\u001B[43mdevice\u001B[49m\u001B[43m,\u001B[49m\u001B[43m \u001B[49m\u001B[43mF_w\u001B[49m\u001B[43m,\u001B[49m\u001B[43m \u001B[49m\u001B[43mW\u001B[49m\u001B[43m,\u001B[49m\n\u001B[32m      8\u001B[39m \u001B[43m    \u001B[49m\u001B[43madj\u001B[49m\u001B[43m,\u001B[49m\u001B[43m \u001B[49m\u001B[43mfeats\u001B[49m\u001B[43m,\u001B[49m\u001B[43m \u001B[49m\u001B[43mnum_piezo\u001B[49m\u001B[43m,\u001B[49m\u001B[43m \u001B[49m\u001B[43mmodeltype\u001B[49m\u001B[43m=\u001B[49m\u001B[33;43m'\u001B[39;49m\u001B[33;43mMTGNN\u001B[39;49m\u001B[33;43m'\u001B[39;49m\n\u001B[32m      9\u001B[39m \u001B[43m)\u001B[49m\n",
      "\u001B[36mFile \u001B[39m\u001B[32m~\\PycharmProjects\\Taccari_et_al\\GroundwaterFlowGNN-main\\utils\\training_utils.py:38\u001B[39m, in \u001B[36mmake_predictions\u001B[39m\u001B[34m(model, sample, device, F_w, W, A_tilde, static_features, num_piezo, build_adj, modeltype, perturb, noise_level)\u001B[39m\n\u001B[32m     35\u001B[39m input_sequence, external_forces, target_sequence, _ = sample\n\u001B[32m     37\u001B[39m \u001B[38;5;66;03m# Move the data to the device (CPU or CUDA)\u001B[39;00m\n\u001B[32m---> \u001B[39m\u001B[32m38\u001B[39m input_sequence = \u001B[43minput_sequence\u001B[49m\u001B[43m.\u001B[49m\u001B[43mto\u001B[49m(device)\n\u001B[32m     39\u001B[39m external_forces = external_forces.to(device)\n\u001B[32m     41\u001B[39m \u001B[38;5;66;03m# Apply high-frequency noise perturbation if required\u001B[39;00m\n",
      "\u001B[31mAttributeError\u001B[39m: 'NoneType' object has no attribute 'to'"
     ]
    }
   ],
   "execution_count": 47
  },
  {
   "metadata": {
    "ExecuteTime": {
     "end_time": "2025-04-27T14:36:09.838441Z",
     "start_time": "2025-04-27T14:36:09.629303Z"
    }
   },
   "cell_type": "code",
   "outputs": [
    {
     "ename": "ValueError",
     "evalue": "only one element tensors can be converted to Python scalars",
     "output_type": "error",
     "traceback": [
      "\u001B[31m---------------------------------------------------------------------------\u001B[39m",
      "\u001B[31mValueError\u001B[39m                                Traceback (most recent call last)",
      "\u001B[36mCell\u001B[39m\u001B[36m \u001B[39m\u001B[32mIn[33]\u001B[39m\u001B[32m, line 26\u001B[39m\n\u001B[32m     23\u001B[39m config = define_base_configuration()\n\u001B[32m     25\u001B[39m num_piezo  = \u001B[38;5;28mint\u001B[39m(\u001B[38;5;28mlen\u001B[39m(df_piezo_columns))\n\u001B[32m---> \u001B[39m\u001B[32m26\u001B[39m num_pump   = \u001B[38;5;28;43mint\u001B[39;49m\u001B[43m(\u001B[49m\u001B[43madj\u001B[49m\u001B[43m[\u001B[49m\u001B[32;43m0\u001B[39;49m\u001B[43m]\u001B[49m\u001B[43m \u001B[49m\u001B[43m-\u001B[49m\u001B[43m \u001B[49m\u001B[43mnum_piezo\u001B[49m\u001B[43m)\u001B[49m\n\u001B[32m     27\u001B[39m num_nodes  = \u001B[38;5;28mint\u001B[39m(num_piezo + num_pump)\n\u001B[32m     28\u001B[39m num_feats  = \u001B[38;5;28mint\u001B[39m(feats.shape[\u001B[32m1\u001B[39m])\n",
      "\u001B[31mValueError\u001B[39m: only one element tensors can be converted to Python scalars"
     ]
    }
   ],
   "execution_count": 33,
   "source": [
    "\n",
    "# 5) Inverse-scale & compute RMSE\n",
    "test_pred_ = inverse_transform_with_shape_adjustment(test_pred.numpy(), scaler, num_piezo)\n",
    "test_targ_ = inverse_transform_with_shape_adjustment(test_target.numpy(), scaler, num_piezo)\n",
    "\n",
    "rmse_per_pz = calculate_rmse_per_piezometer(test_pred_, test_targ_, num_piezo)\n",
    "mean, std = rmse_per_pz.mean(), rmse_per_pz.std()\n",
    "print(f\"Test RMSE = {mean:.3f} ± {std:.3f}\")\n"
   ],
   "id": "74385791038b5e1b"
  },
  {
   "metadata": {},
   "cell_type": "code",
   "source": "",
   "id": "4e45957594e47eec",
   "outputs": [],
   "execution_count": null
  }
 ],
 "metadata": {
  "kernelspec": {
   "display_name": "Python 3",
   "language": "python",
   "name": "python3"
  },
  "language_info": {
   "codemirror_mode": {
    "name": "ipython",
    "version": 2
   },
   "file_extension": ".py",
   "mimetype": "text/x-python",
   "name": "python",
   "nbconvert_exporter": "python",
   "pygments_lexer": "ipython2",
   "version": "2.7.6"
  }
 },
 "nbformat": 4,
 "nbformat_minor": 5
}
