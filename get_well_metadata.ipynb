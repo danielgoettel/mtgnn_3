{
 "cells": [
  {
   "cell_type": "code",
   "id": "initial_id",
   "metadata": {
    "collapsed": true,
    "ExecuteTime": {
     "end_time": "2025-04-27T03:45:54.956863Z",
     "start_time": "2025-04-27T03:45:39.822999Z"
    }
   },
   "source": [
    "import io\n",
    "import pandas as pd\n",
    "from pathlib import Path\n",
    "\n",
    "# ◼ Adjust this to point at your metadata CSV folder:\n",
    "DATA_FOLDER = Path(\n",
    "    r\"C:\\Users\\danielg\\PycharmProjects\\Taccari_et_al\\GroundwaterFlowGNN-main\\data\\input\\piezometers\\csv\\csv\"\n",
    ")\n",
    "\n",
    "records = []\n",
    "\n",
    "for f in DATA_FOLDER.glob(\"*.csv\"):\n",
    "    lines = f.read_text(encoding=\"utf-8\").splitlines()\n",
    "\n",
    "    # 1) find the metadata header (first block)\n",
    "    for i, L in enumerate(lines):\n",
    "        if L.startswith(\"LOCATIE\") and \"X-COORDINAAT\" in L:\n",
    "            start = i\n",
    "            break\n",
    "    else:\n",
    "        # no metadata header in this file\n",
    "        continue\n",
    "\n",
    "    # 2) find end of that block (blank line or next header)\n",
    "    end = None\n",
    "    for j in range(start + 1, len(lines)):\n",
    "        if not lines[j].strip() or (\n",
    "            lines[j].startswith(\"LOCATIE\") and \"PEIL DATUM\" in lines[j]\n",
    "        ):\n",
    "            end = j\n",
    "            break\n",
    "    end = end or len(lines)\n",
    "\n",
    "    # 3) read only that slice into a DataFrame\n",
    "    block = io.StringIO(\"\\n\".join(lines[start:end]))\n",
    "    dfm = pd.read_csv(block, sep=\",\", engine=\"python\", header=0, dtype=str)\n",
    "\n",
    "    # 4) normalize columns and grab the first row\n",
    "    dfm.columns = dfm.columns.str.strip().str.upper()\n",
    "    row = dfm.iloc[0]\n",
    "\n",
    "    # 5) append only the requested fields\n",
    "    records.append({\n",
    "        \"file\"          : f.name,\n",
    "        \"locatie\"       : row[\"LOCATIE\"],\n",
    "        \"external_id\"   : row[\"EXTERNE AANDUIDING\"],\n",
    "        \"x_coord\"       : float(row[\"X-COORDINAAT\"]),\n",
    "        \"y_coord\"       : float(row[\"Y-COORDINAAT\"]),\n",
    "        \"ground_elev\"   : float(row[\"MAAIVELD NAP\"]),\n",
    "        \"top_filter\"    : float(row[\"BOVENKANT FILTER\"]),\n",
    "        \"bottom_filter\" : float(row[\"ONDERKANT FILTER\"]),\n",
    "    })\n",
    "\n",
    "# 6) build the final metadata table\n",
    "meta_df = pd.DataFrame.from_records(records).set_index(\"file\")\n",
    "\n",
    "print(meta_df)\n"
   ],
   "outputs": [
    {
     "name": "stdout",
     "output_type": "stream",
     "text": [
      "ERROR! Session/line number was not unique in database. History logging moved to new session 135\n",
      "                                           locatie   external_id    x_coord  \\\n",
      "file                                                                          \n",
      "B39E0275001_1028_39EP0033001.csv          B39E0275   39EP0033001  169470.00   \n",
      "B39E0275002_1028_39EP0033002.csv          B39E0275   39EP0033002  169470.00   \n",
      "B39E2783001_1036_39E-2783001.csv          B39E2783   39E-2783001  168961.01   \n",
      "B39E2784001_1036_39E-2784001.csv          B39E2784   39E-2784001  168261.55   \n",
      "B39E2786001_1036_39E-2786001.csv          B39E2786   39E-2786001  168915.19   \n",
      "...                                            ...           ...        ...   \n",
      "HEM-P00-31002_1018_HEM-P00-31-2.csv  HEM-P00-31002  HEM-P00-31-2  175967.00   \n",
      "HEM-P00-31003_1018_HEM-P00-31-3.csv  HEM-P00-31003  HEM-P00-31-3  175967.00   \n",
      "P39F0006006_1033_39F-0006001.csv          P39F0006   39F-0006001  176220.00   \n",
      "P40B0010001_1029_40B-0010001.csv          P40B0010   40B-0010001  191061.00   \n",
      "P40B0013001_1029_40B-0013001.csv          P40B0013   40B-0013001  191480.00   \n",
      "\n",
      "                                       y_coord  ground_elev  top_filter  \\\n",
      "file                                                                      \n",
      "B39E0275001_1028_39EP0033001.csv     438600.00        558.0       366.0   \n",
      "B39E0275002_1028_39EP0033002.csv     438600.00        558.0      -234.0   \n",
      "B39E2783001_1036_39E-2783001.csv     438676.98        676.0       496.0   \n",
      "B39E2784001_1036_39E-2784001.csv     438310.60        686.0       387.0   \n",
      "B39E2786001_1036_39E-2786001.csv     438055.08        722.0       485.0   \n",
      "...                                        ...          ...         ...   \n",
      "HEM-P00-31002_1018_HEM-P00-31-2.csv  439215.00          0.0     -3852.0   \n",
      "HEM-P00-31003_1018_HEM-P00-31-3.csv  439215.00          0.0     -5350.0   \n",
      "P39F0006006_1033_39F-0006001.csv     438510.00        788.0       764.0   \n",
      "P40B0010001_1029_40B-0010001.csv     440530.00       1065.4      1165.4   \n",
      "P40B0013001_1029_40B-0013001.csv     440350.00        932.0       812.0   \n",
      "\n",
      "                                     bottom_filter  \n",
      "file                                                \n",
      "B39E0275001_1028_39EP0033001.csv             258.0  \n",
      "B39E0275002_1028_39EP0033002.csv            -342.0  \n",
      "B39E2783001_1036_39E-2783001.csv             396.0  \n",
      "B39E2784001_1036_39E-2784001.csv             287.0  \n",
      "B39E2786001_1036_39E-2786001.csv             385.0  \n",
      "...                                            ...  \n",
      "HEM-P00-31002_1018_HEM-P00-31-2.csv        -4052.0  \n",
      "HEM-P00-31003_1018_HEM-P00-31-3.csv        -5550.0  \n",
      "P39F0006006_1033_39F-0006001.csv             514.0  \n",
      "P40B0010001_1029_40B-0010001.csv             765.4  \n",
      "P40B0013001_1029_40B-0013001.csv             612.0  \n",
      "\n",
      "[395 rows x 7 columns]\n"
     ]
    }
   ],
   "execution_count": 1
  },
  {
   "metadata": {
    "ExecuteTime": {
     "end_time": "2025-04-27T03:48:03.718758Z",
     "start_time": "2025-04-27T03:48:03.681120Z"
    }
   },
   "cell_type": "code",
   "source": "meta_df.to_csv(\"C:\\\\Users\\\\danielg\\\\PycharmProjects\\\\Taccari_et_al\\\\GroundwaterFlowGNN-main\\\\data\\\\preprocessed\\\\well_metadata.csv\")",
   "id": "cc27a30cb55fb3c7",
   "outputs": [],
   "execution_count": 2
  }
 ],
 "metadata": {
  "kernelspec": {
   "display_name": "Python 3",
   "language": "python",
   "name": "python3"
  },
  "language_info": {
   "codemirror_mode": {
    "name": "ipython",
    "version": 2
   },
   "file_extension": ".py",
   "mimetype": "text/x-python",
   "name": "python",
   "nbconvert_exporter": "python",
   "pygments_lexer": "ipython2",
   "version": "2.7.6"
  }
 },
 "nbformat": 4,
 "nbformat_minor": 5
}
